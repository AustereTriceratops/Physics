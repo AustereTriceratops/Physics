{
 "cells": [
  {
   "cell_type": "code",
   "execution_count": 1,
   "metadata": {},
   "outputs": [],
   "source": [
    "import random as r\n",
    "import numpy as np\n",
    "import seaborn as sns\n",
    "import matplotlib.pyplot as plt\n",
    "\n",
    "sns.set_style(\"dark\")"
   ]
  },
  {
   "cell_type": "code",
   "execution_count": 2,
   "metadata": {},
   "outputs": [],
   "source": [
    "num_states = 25\n",
    "sns.set_palette(sns.color_palette(\"Set2\"))"
   ]
  },
  {
   "cell_type": "code",
   "execution_count": 3,
   "metadata": {},
   "outputs": [],
   "source": [
    "def relax(initial_state, visit_counts, mu=1):\n",
    "    visit_counts = visit_counts.copy()\n",
    "    state = r.randint(0,initial_state-1)\n",
    "    visit_counts[state] += 1/mu\n",
    "    \n",
    "    if state > 0:\n",
    "        m = int(np.floor(mu))\n",
    "        fr = mu - m\n",
    "\n",
    "        for _ in range(m):  # break into m branches\n",
    "            visit_counts = relax(state, visit_counts, mu=mu)\n",
    "\n",
    "        p = np.random.random() # fractional part of mu\n",
    "        if p < fr:\n",
    "            visit_counts = relax(state, visit_counts, mu=mu)\n",
    "        \n",
    "    \n",
    "    return visit_counts"
   ]
  },
  {
   "cell_type": "code",
   "execution_count": 4,
   "metadata": {},
   "outputs": [],
   "source": [
    "def simulate(num_states, num_relaxations, mu=1):\n",
    "    visit_counts = [0 for _ in range(num_states)]\n",
    "    \n",
    "    for _ in range(num_relaxations):\n",
    "        visit_counts = relax(num_states, visit_counts, mu=mu)\n",
    "            \n",
    "    return visit_counts"
   ]
  },
  {
   "cell_type": "code",
   "execution_count": 5,
   "metadata": {},
   "outputs": [
    {
     "data": {
      "text/plain": [
       "[0.40392378915148786,\n",
       " 0.16093617288996057,\n",
       " 0.09247433598623396,\n",
       " 0.06276804345317007,\n",
       " 0.043904075833350965,\n",
       " 0.03450879234955001,\n",
       " 0.02854236790503677,\n",
       " 0.02200970985770419,\n",
       " 0.018423563706520017,\n",
       " 0.01574968280432135,\n",
       " 0.014386527834573212,\n",
       " 0.012226451497895393,\n",
       " 0.011660217895076935,\n",
       " 0.010076860968677175,\n",
       " 0.009091195067474673,\n",
       " 0.008608847924333024,\n",
       " 0.007203749724746409,\n",
       " 0.00694160453825636,\n",
       " 0.006260027053382233,\n",
       " 0.006197112208624621,\n",
       " 0.00592448121467497,\n",
       " 0.005106588232826018,\n",
       " 0.004351610095734676,\n",
       " 0.004393553325573084,\n",
       " 0.004330638480815472]"
      ]
     },
     "execution_count": 5,
     "metadata": {},
     "output_type": "execute_result"
    }
   ],
   "source": [
    "visits = simulate(num_states, 10000, mu=1.5)\n",
    "total_visits = np.sum(visits)\n",
    "\n",
    "visits = list(map(lambda x: x/total_visits, visits))\n",
    "visits"
   ]
  },
  {
   "cell_type": "code",
   "execution_count": 6,
   "metadata": {},
   "outputs": [
    {
     "data": {
      "text/plain": [
       "<matplotlib.axes._subplots.AxesSubplot at 0x1e4ee3a5488>"
      ]
     },
     "execution_count": 6,
     "metadata": {},
     "output_type": "execute_result"
    },
    {
     "data": {
      "image/png": "[encoded data removed]",
      "text/plain": [
       "<Figure size 432x288 with 1 Axes>"
      ]
     },
     "metadata": {},
     "output_type": "display_data"
    }
   ],
   "source": [
    "sns.lineplot(range(num_states), visits)"
   ]
  },
  {
   "cell_type": "code",
   "execution_count": 7,
   "metadata": {},
   "outputs": [],
   "source": [
    "exponents = []\n",
    "\n",
    "for i in range(0, 4):\n",
    "    visits = simulate(num_states, 10000, mu=0.5*(2**i)) \n",
    "    total_visits = np.sum(visits)\n",
    "\n",
    "    visits = list(map(lambda x: x/total_visits, visits))\n",
    "    \n",
    "    exponents.append(visits)    "
   ]
  },
  {
   "cell_type": "code",
   "execution_count": 8,
   "metadata": {},
   "outputs": [
    {
     "data": {
      "text/plain": [
       "<matplotlib.legend.Legend at 0x1e4f0429788>"
      ]
     },
     "execution_count": 8,
     "metadata": {},
     "output_type": "execute_result"
    },
    {
     "data": {
      "image/png": "[encoded data removed]",
      "text/plain": [
       "<Figure size 432x288 with 1 Axes>"
      ]
     },
     "metadata": {},
     "output_type": "display_data"
    }
   ],
   "source": [
    "fig, ax = plt.subplots((1))\n",
    "ax.set_ylim(0, 0.7)\n",
    "ax.set_xlim(0, 15)\n",
    "\n",
    "for i, exp in enumerate(exponents):\n",
    "    mu = 0.5*(2**i)\n",
    "    l = \"%f\" %(mu)\n",
    "    ax = sns.lineplot(range(num_states), exp, label=l[:3])\n",
    "    \n",
    "ax.legend()"
   ]
  },
  {
   "cell_type": "code",
   "execution_count": null,
   "metadata": {},
   "outputs": [],
   "source": []
  }
 ],
 "metadata": {
  "kernelspec": {
   "display_name": "Python 3",
   "language": "python",
   "name": "python3"
  },
  "language_info": {
   "codemirror_mode": {
    "name": "ipython",
    "version": 3
   },
   "file_extension": ".py",
   "mimetype": "text/x-python",
   "name": "python",
   "nbconvert_exporter": "python",
   "pygments_lexer": "ipython3",
   "version": "3.7.6"
  }
 },
 "nbformat": 4,
 "nbformat_minor": 4
}
