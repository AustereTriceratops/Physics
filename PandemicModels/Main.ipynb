{
 "cells": [
  {
   "cell_type": "code",
   "execution_count": 302,
   "metadata": {},
   "outputs": [],
   "source": [
    "%matplotlib inline\n",
    "import matplotlib.pyplot as plt\n",
    "from matplotlib.cm import get_cmap\n",
    "import matplotlib.colors as colors\n",
    "import numpy as np\n",
    "# import pandas as pd    add later"
   ]
  },
  {
   "cell_type": "code",
   "execution_count": 341,
   "metadata": {},
   "outputs": [],
   "source": [
    "class Agent:\n",
    "    statuses = [\"healthy\", \"sick\", \"recovered\", \"dead\"]\n",
    "    \n",
    "    def __init__(self, index = None, status=statuses[0]):\n",
    "        self.index = index\n",
    "        self.status = status\n",
    "        self.infection_time = 0\n",
    "        \n",
    "    def __str__(self):\n",
    "        return self.status\n",
    "    \n",
    "    def __repr__(self):\n",
    "        return self.__str__()\n",
    "    \n",
    "    def interact(self, other_status):\n",
    "        if self.status == \"healthy\" and other_status == \"sick\":\n",
    "            p = np.random.random()\n",
    "            if p < 0.8:\n",
    "                self.status = \"sick\"\n",
    "    \n",
    "    def step(self):\n",
    "        if self.status == \"sick\":\n",
    "            self.infection_time += 1\n",
    "            if self.infection_time > 3:\n",
    "                self.status = \"recovered\"\n",
    "            p = np.random.random()\n",
    "            if p < 0.15:\n",
    "                self.status = \"dead\"        "
   ]
  },
  {
   "cell_type": "code",
   "execution_count": 285,
   "metadata": {},
   "outputs": [],
   "source": [
    "def random_pairs(pop): #returns pairs of indices of the list \"pop\"\n",
    "    size = len(pop)\n",
    "    halfway = int(np.floor(size/2))\n",
    "    indices = np.array([i for i in range(size)])\n",
    "    \n",
    "    np.random.shuffle(indices)\n",
    "    partition_1 = indices[0 : halfway]\n",
    "    partition_2 = indices[halfway : size]\n",
    "    \n",
    "    lineup = np.stack([partition_1, partition_2])\n",
    "    \n",
    "    pairs = np.transpose(lineup)  \n",
    "        \n",
    "    return pairs\n",
    "\n",
    "def infection_step(population, distancing_factor=1):\n",
    "    pairs = random_pairs(population)\n",
    "    \n",
    "    for pair in pairs:\n",
    "        n = np.random.random()\n",
    "        if n < distancing_factor:    # social distancing factor, 0 = total isolation\n",
    "            agentA = population[pair[0]]\n",
    "            agentB = population[pair[1]]\n",
    "            \n",
    "            population[pair[0]].interact(agentB.status)\n",
    "            population[pair[1]].interact(agentA.status)\n",
    "            \n",
    "            for i in range(2):\n",
    "                population[pair[i]].step()\n",
    "        \n",
    "    return population"
   ]
  },
  {
   "cell_type": "code",
   "execution_count": 295,
   "metadata": {},
   "outputs": [],
   "source": [
    "population_size = 200\n",
    "step_count = 40"
   ]
  },
  {
   "cell_type": "code",
   "execution_count": 342,
   "metadata": {},
   "outputs": [
    {
     "data": {
      "image/png": "[encoded data removed]",
      "text/plain": [
       "<Figure size 432x288 with 1 Axes>"
      ]
     },
     "metadata": {
      "needs_background": "light"
     },
     "output_type": "display_data"
    }
   ],
   "source": [
    "population = np.array([Agent() for _ in range(population_size)])\n",
    "population[0].status = \"sick\"\n",
    "\n",
    "healthy = [199]\n",
    "sick = [1]\n",
    "recovered = [0]\n",
    "dead = [0]\n",
    "\n",
    "for _ in range(step_count):\n",
    "    infection_step(population, distancing_factor=0.4)\n",
    "    stats = {\"healthy\": 0, \"sick\": 0, \"recovered\": 0, \"dead\": 0}\n",
    "    for a in population:\n",
    "        stats[a.status] += 1\n",
    "    \n",
    "    healthy.append(stats['healthy'])\n",
    "    sick.append(stats['sick'])\n",
    "    recovered.append(stats['recovered'])\n",
    "    dead.append(stats['dead'])\n",
    "    \n",
    "x = [i for i in range(step_count + 1)]\n",
    "cm = get_cmap(\"twilight_shifted\")\n",
    "colors = [cm(i/4.0) for i in range(4)]\n",
    "    \n",
    "fig, ax = plt.subplots()\n",
    "ax.stackplot(x, healthy, sick, recovered, dead, labels=Agent.statuses, colors=colors)\n",
    "ax.legend()\n",
    "plt.show()"
   ]
  },
  {
   "cell_type": "code",
   "execution_count": null,
   "metadata": {},
   "outputs": [],
   "source": []
  }
 ],
 "metadata": {
  "kernelspec": {
   "display_name": "Python 3",
   "language": "python",
   "name": "python3"
  },
  "language_info": {
   "codemirror_mode": {
    "name": "ipython",
    "version": 3
   },
   "file_extension": ".py",
   "mimetype": "text/x-python",
   "name": "python",
   "nbconvert_exporter": "python",
   "pygments_lexer": "ipython3",
   "version": "3.6.8"
  }
 },
 "nbformat": 4,
 "nbformat_minor": 2
}
