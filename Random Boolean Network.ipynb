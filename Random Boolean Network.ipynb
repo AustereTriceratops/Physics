{
 "cells": [
  {
   "cell_type": "code",
   "execution_count": 1,
   "metadata": {},
   "outputs": [],
   "source": [
    "%matplotlib inline\n",
    "import matplotlib.pyplot as plt\n",
    "import pandas as pd\n",
    "import numpy as np"
   ]
  },
  {
   "cell_type": "code",
   "execution_count": 2,
   "metadata": {},
   "outputs": [],
   "source": [
    "# a, b in [0, 1]\n",
    "\n",
    "def and_gate(vals):\n",
    "    product = 1\n",
    "    for value in vals:\n",
    "        product *= value\n",
    "    return product\n",
    "\n",
    "def or_gate(vals):\n",
    "    return np.max(vals)\n",
    "    #return 1 - nor(vals)\n",
    "\n",
    "def nand(vals):\n",
    "    return 1 - and_gate(vals)\n",
    "\n",
    "def nor(vals):\n",
    "    return 1- np.max(vals)\n",
    "    '''product = 1\n",
    "    for value in vals:\n",
    "        product *= (1-value)\n",
    "    return product'''\n",
    "    \n",
    "gates = [and_gate, or_gate, nand, nor]"
   ]
  },
  {
   "cell_type": "code",
   "execution_count": 3,
   "metadata": {},
   "outputs": [],
   "source": [
    "class Node:\n",
    "    def __init__(self, index=None):\n",
    "        self.index = index\n",
    "        self.state = np.random.random()\n",
    "        self.gate = np.random.choice(gates)\n",
    "        self.ingoing_indices = []\n",
    "        self.outgoing_indices = []\n",
    "        \n",
    "        \n",
    "class Network:\n",
    "    def __init__(self, size, num_inputs=2):\n",
    "        self.size = size\n",
    "        self.nodes = np.array([Node(index=i) for i in range(size)])\n",
    "        self.state_history = [self.yield_states()]\n",
    "        self.time = 0\n",
    "        \n",
    "        self.randomly_connect_nodes(num_inputs=num_inputs)\n",
    "        \n",
    "    def randomly_connect_nodes(self, num_inputs=2):\n",
    "        for node in self.nodes:\n",
    "            node.ingoing_indices = [np.random.randint(0, self.size) for _ in range(num_inputs)]\n",
    "            for index in node.ingoing_indices:\n",
    "                self.nodes[index].outgoing_indices.append(node.index)\n",
    "                \n",
    "    def timestep(self):\n",
    "        updated_states = []\n",
    "        for i in range(self.size):\n",
    "            node = self.nodes[i]\n",
    "            inputs = [self.nodes[node.ingoing_indices[0]].state, self.nodes[node.ingoing_indices[1]].state]\n",
    "            updated_states.append(node.gate(inputs))\n",
    "            \n",
    "        self.state_history.append(updated_states)\n",
    "        self.time += 1\n",
    "            \n",
    "        for i in range(self.size):\n",
    "            self.nodes[i].state = updated_states[i]\n",
    "            \n",
    "    def show_connections(self):\n",
    "        for node in self.nodes:\n",
    "            print(node.ingoing_indices, node.outgoing_indices)\n",
    "    \n",
    "    def show_states(self):\n",
    "        for node in self.nodes:\n",
    "            print(node.state)\n",
    "            \n",
    "    def yield_states(self):\n",
    "        states = []\n",
    "        for node in self.nodes:\n",
    "            states.append(node.state)\n",
    "        return states"
   ]
  },
  {
   "cell_type": "code",
   "execution_count": 4,
   "metadata": {},
   "outputs": [],
   "source": [
    "a = Network(25, num_inputs=4)\n",
    "for _ in range(40):\n",
    "    a.timestep()"
   ]
  },
  {
   "cell_type": "code",
   "execution_count": 5,
   "metadata": {},
   "outputs": [
    {
     "data": {
      "text/plain": [
       "Text(0.5, 0, 'Time')"
      ]
     },
     "execution_count": 5,
     "metadata": {},
     "output_type": "execute_result"
    },
    {
     "data": {
      "image/png": "[encoded data removed]",
      "text/plain": [
       "<Figure size 432x288 with 1 Axes>"
      ]
     },
     "metadata": {
      "needs_background": "light"
     },
     "output_type": "display_data"
    }
   ],
   "source": [
    "history_map = np.asarray(a.state_history).transpose()\n",
    "history_map = np.flip(history_map, 0)\n",
    "plt.imshow(history_map, extent=[0, a.time, 0, a.size])\n",
    "\n",
    "plt.yticks([0, a.size])\n",
    "plt.ylabel(\"State of each node\")\n",
    "\n",
    "plt.xticks([0, a.time])\n",
    "plt.xlabel(\"Time\")"
   ]
  },
  {
   "cell_type": "code",
   "execution_count": 6,
   "metadata": {},
   "outputs": [
    {
     "name": "stdout",
     "output_type": "stream",
     "text": [
      "[20, 11, 5, 16] [4, 6, 6, 6, 10, 12, 15]\n",
      "[22, 6, 24, 1] [1, 9, 16]\n",
      "[11, 21, 8, 12] [17, 21]\n",
      "[21, 5, 16, 18] [13, 14]\n",
      "[8, 16, 16, 0] [5, 5, 13, 18]\n",
      "[21, 4, 7, 4] [0, 3, 7, 20, 24]\n",
      "[11, 0, 0, 0] [1, 11, 22]\n",
      "[5, 23, 17, 12] [5, 10, 16, 22]\n",
      "[24, 13, 23, 20] [2, 4, 17, 22, 24]\n",
      "[16, 22, 19, 1] [12, 15]\n",
      "[16, 18, 7, 0] [13, 13, 18]\n",
      "[13, 11, 6, 11] [0, 2, 6, 11, 11]\n",
      "[0, 23, 9, 21] [2, 7, 17, 20, 23]\n",
      "[10, 4, 10, 3] [8, 11, 19]\n",
      "[21, 3, 19, 20] [18]\n",
      "[21, 9, 24, 0] []\n",
      "[22, 1, 7, 19] [0, 3, 4, 4, 9, 10, 19, 20, 21, 23, 23, 24]\n",
      "[17, 12, 8, 2] [7, 17, 20]\n",
      "[21, 4, 14, 10] [3, 10, 19]\n",
      "[13, 18, 22, 16] [9, 14, 16, 23]\n",
      "[17, 12, 16, 5] [0, 8, 14, 21, 21]\n",
      "[16, 2, 20, 20] [2, 3, 5, 12, 14, 15, 18]\n",
      "[7, 24, 6, 8] [1, 9, 16, 19]\n",
      "[16, 19, 16, 12] [7, 8, 12]\n",
      "[5, 16, 8, 24] [1, 8, 15, 22, 24]\n"
     ]
    }
   ],
   "source": [
    "a.show_connections()"
   ]
  },
  {
   "cell_type": "code",
   "execution_count": null,
   "metadata": {},
   "outputs": [],
   "source": []
  }
 ],
 "metadata": {
  "kernelspec": {
   "display_name": "Python 3",
   "language": "python",
   "name": "python3"
  },
  "language_info": {
   "codemirror_mode": {
    "name": "ipython",
    "version": 3
   },
   "file_extension": ".py",
   "mimetype": "text/x-python",
   "name": "python",
   "nbconvert_exporter": "python",
   "pygments_lexer": "ipython3",
   "version": "3.6.8"
  }
 },
 "nbformat": 4,
 "nbformat_minor": 2
}
