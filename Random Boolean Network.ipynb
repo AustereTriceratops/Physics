{
 "cells": [
  {
   "cell_type": "code",
   "execution_count": 138,
   "metadata": {},
   "outputs": [],
   "source": [
    "%matplotlib inline\n",
    "import matplotlib.pyplot as plt\n",
    "from matplotlib.cm import get_cmap\n",
    "import pandas as pd\n",
    "import numpy as np"
   ]
  },
  {
   "cell_type": "code",
   "execution_count": 197,
   "metadata": {},
   "outputs": [],
   "source": [
    "# a, b in [0, 1]\n",
    "\n",
    "def and_gate(vals):\n",
    "    product = 1\n",
    "    for value in vals:\n",
    "        product *= value\n",
    "    return product\n",
    "\n",
    "def or_gate(vals):\n",
    "    return np.max(vals)\n",
    "\n",
    "def nand(vals):\n",
    "    return 1 - and_gate(vals)\n",
    "\n",
    "def nor(vals):\n",
    "    return 1 - np.max(vals)\n",
    "    \n",
    "gates = [and_gate, or_gate, nand, nor]"
   ]
  },
  {
   "cell_type": "code",
   "execution_count": 210,
   "metadata": {},
   "outputs": [],
   "source": [
    "class Node:\n",
    "    def __init__(self, index=None):\n",
    "        self.index = index\n",
    "        self.state = np.random.random()\n",
    "        self.gate = np.random.choice(gates)\n",
    "        self.ingoing_indices = []\n",
    "        self.outgoing_indices = []\n",
    "        \n",
    "        \n",
    "class Network:\n",
    "    def __init__(self, size, num_inputs=2):\n",
    "        self.size = size\n",
    "        self.nodes = np.array([Node(index=i) for i in range(size)])\n",
    "        self.state_history = [self.yield_states()]\n",
    "        self.time = 0\n",
    "        \n",
    "        self.randomly_connect_nodes(num_inputs=num_inputs)\n",
    "        \n",
    "    def randomly_connect_nodes(self, num_inputs=2):\n",
    "        for node in self.nodes:\n",
    "            node.ingoing_indices = [np.random.randint(0, self.size) for _ in range(num_inputs)]\n",
    "            for index in node.ingoing_indices:\n",
    "                self.nodes[index].outgoing_indices.append(node.index)\n",
    "                \n",
    "    def timestep(self):\n",
    "        updated_states = []\n",
    "        for i in range(self.size):\n",
    "            node = self.nodes[i]\n",
    "            inputs = [self.nodes[node.ingoing_indices[0]].state, self.nodes[node.ingoing_indices[1]].state]\n",
    "            updated_states.append(node.gate(inputs))\n",
    "            \n",
    "        self.state_history.append(updated_states)\n",
    "        self.time += 1\n",
    "            \n",
    "        for i in range(self.size):\n",
    "            self.nodes[i].state = updated_states[i]\n",
    "            \n",
    "    def show_connections(self):\n",
    "        for node in self.nodes:\n",
    "            print(node.ingoing_indices, node.outgoing_indices)\n",
    "    \n",
    "    def show_states(self):\n",
    "        for node in self.nodes:\n",
    "            print(node.state)\n",
    "            \n",
    "    def yield_states(self):\n",
    "        states = []\n",
    "        for node in self.nodes:\n",
    "            states.append(node.state)\n",
    "        return states"
   ]
  },
  {
   "cell_type": "code",
   "execution_count": 239,
   "metadata": {},
   "outputs": [],
   "source": [
    "a = Network(25, num_inputs=4)\n",
    "for _ in range(25):\n",
    "    a.timestep()"
   ]
  },
  {
   "cell_type": "code",
   "execution_count": 240,
   "metadata": {},
   "outputs": [
    {
     "data": {
      "text/plain": [
       "Text(0.5, 0, 'Time')"
      ]
     },
     "execution_count": 240,
     "metadata": {},
     "output_type": "execute_result"
    },
    {
     "data": {
      "image/png": "[encoded data removed]",
      "text/plain": [
       "<Figure size 432x288 with 1 Axes>"
      ]
     },
     "metadata": {
      "needs_background": "light"
     },
     "output_type": "display_data"
    }
   ],
   "source": [
    "cm_hot = get_cmap('plasma')\n",
    "\n",
    "history_map = np.asarray(a.state_history).transpose()\n",
    "history_map = np.flip(history_map, 0)\n",
    "plt.imshow(history_map, extent=[0, a.time, 0, a.size])\n",
    "\n",
    "plt.yticks([0, a.size])\n",
    "plt.ylabel(\"State of each node\")\n",
    "\n",
    "plt.xticks([0, a.time])\n",
    "plt.xlabel(\"Time\")"
   ]
  },
  {
   "cell_type": "code",
   "execution_count": 241,
   "metadata": {},
   "outputs": [
    {
     "name": "stdout",
     "output_type": "stream",
     "text": [
      "[20, 4, 0, 23] [0, 1, 9, 10, 15, 16, 18, 21, 21]\n",
      "[0, 24, 14, 4] [12, 13, 14, 17, 18, 23]\n",
      "[17, 10, 12, 19] [8]\n",
      "[3, 21, 15, 23] [3, 16, 24]\n",
      "[20, 4, 23, 18] [0, 1, 4, 17]\n",
      "[16, 19, 7, 6] [6, 18]\n",
      "[19, 10, 7, 5] [5]\n",
      "[15, 23, 15, 9] [5, 6, 14, 15, 19, 20]\n",
      "[17, 18, 16, 2] []\n",
      "[17, 21, 0, 24] [7, 11, 12, 19, 19, 20, 22]\n",
      "[22, 24, 12, 0] [2, 6, 24]\n",
      "[16, 9, 14, 18] [13, 13]\n",
      "[1, 14, 9, 22] [2, 10, 13, 21, 23]\n",
      "[11, 1, 11, 12] [15, 23]\n",
      "[14, 7, 22, 1] [1, 11, 12, 14, 19, 20]\n",
      "[0, 21, 13, 7] [3, 7, 7]\n",
      "[3, 24, 0, 21] [5, 8, 11]\n",
      "[19, 1, 19, 4] [2, 8, 9, 20, 22]\n",
      "[5, 1, 22, 0] [4, 8, 11, 21]\n",
      "[9, 9, 14, 7] [2, 5, 6, 17, 17, 23, 24]\n",
      "[7, 9, 14, 17] [0, 4, 22, 22]\n",
      "[0, 18, 12, 0] [3, 9, 15, 16]\n",
      "[20, 20, 17, 9] [10, 12, 14, 18, 24]\n",
      "[13, 12, 19, 1] [0, 3, 4, 7]\n",
      "[19, 22, 10, 3] [1, 9, 10, 16]\n"
     ]
    }
   ],
   "source": [
    "a.show_connections()"
   ]
  },
  {
   "cell_type": "code",
   "execution_count": null,
   "metadata": {},
   "outputs": [],
   "source": []
  }
 ],
 "metadata": {
  "kernelspec": {
   "display_name": "Python 3",
   "language": "python",
   "name": "python3"
  },
  "language_info": {
   "codemirror_mode": {
    "name": "ipython",
    "version": 3
   },
   "file_extension": ".py",
   "mimetype": "text/x-python",
   "name": "python",
   "nbconvert_exporter": "python",
   "pygments_lexer": "ipython3",
   "version": "3.6.8"
  }
 },
 "nbformat": 4,
 "nbformat_minor": 2
}
