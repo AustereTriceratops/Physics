{
 "cells": [
  {
   "cell_type": "code",
   "execution_count": 9,
   "metadata": {},
   "outputs": [],
   "source": [
    "%matplotlib inline\n",
    "import matplotlib.pyplot as plt\n",
    "import pandas as pd\n",
    "import numpy as np"
   ]
  },
  {
   "cell_type": "code",
   "execution_count": 133,
   "metadata": {},
   "outputs": [],
   "source": [
    "# a, b in [0, 1]\n",
    "\n",
    "def and_gate(a, b):\n",
    "    return a*b\n",
    "\n",
    "def or_gate(a, b):\n",
    "    return np.maximum(a, b)\n",
    "\n",
    "def nand(a, b):\n",
    "    return 1 - a*b\n",
    "\n",
    "def nor(a, b):\n",
    "    return 1 - np.maximum(a, b)\n",
    "    \n",
    "gates = [and_gate, or_gate, nand, nor]"
   ]
  },
  {
   "cell_type": "code",
   "execution_count": 134,
   "metadata": {},
   "outputs": [],
   "source": [
    "class Node:\n",
    "    def __init__(self, index=None):\n",
    "        self.index = index\n",
    "        self.state = np.random.choice([0, 1])\n",
    "        self.gate = np.random.choice(gates)\n",
    "        self.ingoing_indices = []\n",
    "        self.outgoing_indices = []\n",
    "        \n",
    "        \n",
    "class Network:\n",
    "    def __init__(self, size):\n",
    "        self.size = size\n",
    "        self.nodes = np.array([Node(index=i) for i in range(size)])\n",
    "        self.state_history = [self.yield_states()]\n",
    "        \n",
    "        self.randomly_connect_nodes()\n",
    "        \n",
    "    def randomly_connect_nodes(self, num_ingoing=2):\n",
    "        for node in self.nodes:\n",
    "            node.ingoing_indices = [np.random.randint(0, self.size) for _ in range(num_ingoing)]\n",
    "            for index in node.ingoing_indices:\n",
    "                self.nodes[index].outgoing_indices.append(node.index)\n",
    "                \n",
    "    def timestep(self):\n",
    "        updated_states = []\n",
    "        for i in range(self.size):\n",
    "            node = self.nodes[i]\n",
    "            inputs = [self.nodes[node.ingoing_indices[0]].state, self.nodes[node.ingoing_indices[1]].state]\n",
    "            updated_states.append(node.gate(inputs[0], inputs[1]))\n",
    "            \n",
    "        self.state_history.append(updated_states)\n",
    "            \n",
    "        for i in range(self.size):\n",
    "            self.nodes[i].state = updated_states[i]\n",
    "            \n",
    "    def show_connections(self):\n",
    "        for node in self.nodes:\n",
    "            print(node.ingoing_indices, node.outgoing_indices)\n",
    "    \n",
    "    def show_states(self):\n",
    "        for node in self.nodes:\n",
    "            print(node.state)\n",
    "            \n",
    "    def yield_states(self):\n",
    "        states = []\n",
    "        for node in self.nodes:\n",
    "            states.append(node.state)\n",
    "        return states"
   ]
  },
  {
   "cell_type": "code",
   "execution_count": 135,
   "metadata": {},
   "outputs": [
    {
     "name": "stdout",
     "output_type": "stream",
     "text": [
      "[4, 2] [7]\n",
      "[5, 8] [4]\n",
      "[6, 3] [0, 7]\n",
      "[5, 6] [2, 4, 5, 6]\n",
      "[3, 1] [0, 9]\n",
      "[7, 3] [1, 3, 9]\n",
      "[3, 7] [2, 3, 8]\n",
      "[0, 2] [5, 6]\n",
      "[6, 9] [1]\n",
      "[4, 5] [8]\n"
     ]
    },
    {
     "data": {
      "text/plain": [
       "[[1, 1, 0, 1, 1, 0, 1, 1, 1, 1]]"
      ]
     },
     "execution_count": 135,
     "metadata": {},
     "output_type": "execute_result"
    }
   ],
   "source": [
    "a = Network(10)\n",
    "a.show_connections()\n",
    "a.state_history"
   ]
  },
  {
   "cell_type": "code",
   "execution_count": 136,
   "metadata": {},
   "outputs": [
    {
     "data": {
      "text/plain": [
       "[[1, 1, 0, 1, 1, 0, 1, 1, 1, 1],\n",
       " [1, 1, 1, 1, 0, 1, 1, 0, 1, 0],\n",
       " [1, 0, 1, 1, 0, 0, 0, 1, 0, 0],\n",
       " [1, 1, 0, 0, 0, 1, 1, 1, 0, 1],\n",
       " [1, 1, 0, 1, 0, 0, 0, 0, 1, 0],\n",
       " [1, 1, 0, 0, 0, 0, 0, 0, 0, 1],\n",
       " [1, 1, 0, 0, 0, 0, 0, 0, 0, 1],\n",
       " [1, 1, 0, 0, 0, 0, 0, 0, 0, 1],\n",
       " [1, 1, 0, 0, 0, 0, 0, 0, 0, 1],\n",
       " [1, 1, 0, 0, 0, 0, 0, 0, 0, 1],\n",
       " [1, 1, 0, 0, 0, 0, 0, 0, 0, 1]]"
      ]
     },
     "execution_count": 136,
     "metadata": {},
     "output_type": "execute_result"
    }
   ],
   "source": [
    "for _ in range(10):\n",
    "    a.timestep()\n",
    "    \n",
    "a.state_history"
   ]
  },
  {
   "cell_type": "code",
   "execution_count": null,
   "metadata": {},
   "outputs": [],
   "source": []
  }
 ],
 "metadata": {
  "kernelspec": {
   "display_name": "Python 3",
   "language": "python",
   "name": "python3"
  },
  "language_info": {
   "codemirror_mode": {
    "name": "ipython",
    "version": 3
   },
   "file_extension": ".py",
   "mimetype": "text/x-python",
   "name": "python",
   "nbconvert_exporter": "python",
   "pygments_lexer": "ipython3",
   "version": "3.6.8"
  }
 },
 "nbformat": 4,
 "nbformat_minor": 2
}
