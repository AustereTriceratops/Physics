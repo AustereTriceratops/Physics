{
 "cells": [
  {
   "cell_type": "code",
   "execution_count": 1,
   "metadata": {},
   "outputs": [],
   "source": [
    "%matplotlib inline\n",
    "import matplotlib.pyplot as plt\n",
    "from matplotlib.cm import get_cmap\n",
    "import numpy as np"
   ]
  },
  {
   "cell_type": "code",
   "execution_count": 2,
   "metadata": {},
   "outputs": [],
   "source": [
    "directions = np.array([[1,0], [0,1], [-1,0], [0,-1], [1,1], [-1,1], [-1,-1], [1,-1]])\n",
    "arena_x = 15\n",
    "arena_y = 15"
   ]
  },
  {
   "cell_type": "code",
   "execution_count": 79,
   "metadata": {},
   "outputs": [],
   "source": [
    "class Agent():\n",
    "    def __init__(self, x, y, index=None):\n",
    "        self.x = x\n",
    "        self.y = y\n",
    "        self.index = index\n",
    "        self.locked = False\n",
    "        self.still = False\n",
    "        \n",
    "    def move(self):  # move in a random direction\n",
    "        #theta = 2*np.pi*np.random.random()\n",
    "        ind = np.random.randint(directions.shape[0])\n",
    "        v = directions[ind].copy()\n",
    "        self.x = (self.x + v[0]) % arena_x\n",
    "        self.y = (self.y + v[1]) % arena_y"
   ]
  },
  {
   "cell_type": "code",
   "execution_count": 202,
   "metadata": {},
   "outputs": [],
   "source": [
    "class Simulation():\n",
    "    def __init__(self, population_size):\n",
    "        self.population = [ \n",
    "            Agent(np.random.randint(arena_x), np.random.randint(arena_y), index=i) for i in range(population_size) ]\n",
    "        \n",
    "        self.arena_active = np.array([[0 for _ in range(arena_x)] for _ in range(arena_y)])\n",
    "        self.arena_locked = self.arena_active.copy()\n",
    "        self.arena_still = self.arena_active.copy()\n",
    "        \n",
    "        self.setup()\n",
    "        \n",
    "    def setup(self):  # place agents into arena\n",
    "        for agent in self.population:  \n",
    "            x = agent.x\n",
    "            y = agent.y\n",
    "\n",
    "            # code below assumes no agent is locked\n",
    "            if self.arena_active[y][x] >= 1: # may be strange but the agent is placed underneath others\n",
    "                agent.still = True\n",
    "                self.arena_still[y][x] += 1\n",
    "            else:\n",
    "                self.arena_active[y][x] += 1\n",
    "                \n",
    "    def move_agents(self):\n",
    "        for agent in self.population: # movement logic\n",
    "            if not agent.locked and not agent.still:  # locked agents won't move\n",
    "                x, y = agent.x, agent.y\n",
    "                self.arena_active[y][x] -= 1\n",
    "\n",
    "                agent.move()\n",
    "\n",
    "                x, y = agent.x, agent.y \n",
    "                if self.arena_active[y][x] >= 1: #check whether agent should be still\n",
    "                    agent.still = True\n",
    "                    self.arena_still[y][x] += 1\n",
    "                else:\n",
    "                    self.arena_active[y][x] += 1\n",
    "                    \n",
    "    def update_states(self):\n",
    "        for agent in self.population: # locking/unlocking logic\n",
    "            x, y = agent.x, agent.y\n",
    "\n",
    "            if not agent.locked and not agent.still:\n",
    "                locked_neighbors = 0\n",
    "\n",
    "                for i in range(3): # count how many locked neighbors there are\n",
    "                    for j in range(3):\n",
    "                        y_ = (y + i - 1) % 10\n",
    "                        x_ = (x + j - 1) % 10\n",
    "                        locked_neighbors += self.arena_locked[y_][x_]\n",
    "\n",
    "                alpha = locked_neighbors/8.0\n",
    "                r = np.random.random()\n",
    "\n",
    "                if r < alpha or r < 0.01:  # agent more likely to become locked with more locked neighbors + flat base chance of locking\n",
    "                    agent.locked = True\n",
    "                    self.arena_active[y][x] -= 1\n",
    "                    self.arena_locked[y][x] += 1\n",
    "                    continue\n",
    "\n",
    "            elif agent.still:\n",
    "                if self.arena_active[y][x] == 0 and self.arena_locked[y][x] == 0:\n",
    "                    agent.still = False\n",
    "                    self.arena_still[y][x] -= 1\n",
    "                    self.arena_active[y][x] += 1\n",
    "                elif self.arena_active[y][x] == 0 and self.arena_locked[y][x] == 1 and agent.locked:\n",
    "                    agent.still = False\n",
    "                    self.arena_still[y][x] -= 1\n",
    "\n",
    "            elif agent.locked:\n",
    "                if self.arena_active[y][x] >= 1:\n",
    "                    #agent.locked = False\n",
    "                    agent.still = True\n",
    "                    #arena_locked[y][x] -= 1\n",
    "                    self.arena_still[y][x] += 1\n",
    "                    continue\n",
    "\n",
    "                r = np.random.random()\n",
    "\n",
    "                '''if r < 0.1:   # chance of spontaneously unlocking\n",
    "                    agent.locked = False\n",
    "                    self.arena_locked[y][x] -= 1\n",
    "                    self.arena_active[y][x] += 1\n",
    "                    continue'''"
   ]
  },
  {
   "cell_type": "code",
   "execution_count": 203,
   "metadata": {},
   "outputs": [],
   "source": [
    "sim = Simulation(60)"
   ]
  },
  {
   "cell_type": "code",
   "execution_count": 210,
   "metadata": {},
   "outputs": [
    {
     "data": {
      "text/plain": [
       "<matplotlib.image.AxesImage at 0x1c9080d2c18>"
      ]
     },
     "execution_count": 210,
     "metadata": {},
     "output_type": "execute_result"
    },
    {
     "data": {
      "image/png": "[encoded data removed]",
      "text/plain": [
       "<Figure size 432x288 with 1 Axes>"
      ]
     },
     "metadata": {
      "needs_background": "light"
     },
     "output_type": "display_data"
    }
   ],
   "source": [
    "for _ in range(10):\n",
    "    sim.move_agents()\n",
    "    sim.update_states()\n",
    "\n",
    "plt.imshow(sim.arena_active)"
   ]
  },
  {
   "cell_type": "code",
   "execution_count": 211,
   "metadata": {},
   "outputs": [
    {
     "data": {
      "text/plain": [
       "<matplotlib.image.AxesImage at 0x1c908138048>"
      ]
     },
     "execution_count": 211,
     "metadata": {},
     "output_type": "execute_result"
    },
    {
     "data": {
      "image/png": "[encoded data removed]",
      "text/plain": [
       "<Figure size 432x288 with 1 Axes>"
      ]
     },
     "metadata": {
      "needs_background": "light"
     },
     "output_type": "display_data"
    }
   ],
   "source": [
    "plt.imshow(sim.arena_locked)"
   ]
  },
  {
   "cell_type": "code",
   "execution_count": null,
   "metadata": {},
   "outputs": [],
   "source": []
  }
 ],
 "metadata": {
  "kernelspec": {
   "display_name": "Python 3",
   "language": "python",
   "name": "python3"
  },
  "language_info": {
   "codemirror_mode": {
    "name": "ipython",
    "version": 3
   },
   "file_extension": ".py",
   "mimetype": "text/x-python",
   "name": "python",
   "nbconvert_exporter": "python",
   "pygments_lexer": "ipython3",
   "version": "3.6.8"
  }
 },
 "nbformat": 4,
 "nbformat_minor": 2
}
