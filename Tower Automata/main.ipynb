{
 "cells": [
  {
   "cell_type": "code",
   "execution_count": 1,
   "metadata": {},
   "outputs": [],
   "source": [
    "%matplotlib inline\n",
    "import matplotlib.pyplot as plt\n",
    "import matplotlib.animation as animation\n",
    "from matplotlib.cm import get_cmap\n",
    "import numpy as np"
   ]
  },
  {
   "cell_type": "code",
   "execution_count": 2,
   "metadata": {},
   "outputs": [],
   "source": [
    "directions = np.array([[1,0], [1,1], [0,1], [-1,1], [-1,0], [-1,-1], [0,-1], [1,-1]])"
   ]
  },
  {
   "cell_type": "code",
   "execution_count": 3,
   "metadata": {},
   "outputs": [],
   "source": [
    "class Agent():\n",
    "    def __init__(self, x, y, index=None, perception_radius=4, c=1):\n",
    "        self.x = x\n",
    "        self.y = y\n",
    "        self.c = c\n",
    "        self.perception_radius = perception_radius\n",
    "        self.index = index\n",
    "        self.locked = False\n",
    "        \n",
    "    def move(self, arena):  # move in a random direction\n",
    "        x, y = self.x, self.y\n",
    "        norm = 0\n",
    "        x_avg = 0\n",
    "        y_avg = 0\n",
    "        arena_x = arena.shape[0]\n",
    "        arena_y = arena.shape[1]\n",
    "        \n",
    "        # calculating \"center of mass\" of agents in NxN area\n",
    "        for i in range(-self.perception_radius, self.perception_radius+1):\n",
    "            for j in range(-self.perception_radius, self.perception_radius+1):\n",
    "                x_ = (x + i) % arena_x\n",
    "                y_ = (y + j) % arena_y\n",
    "                count = arena[y_][x_]\n",
    "                norm += count\n",
    "                x_avg += i*count\n",
    "                y_avg += j*count\n",
    "                \n",
    "        x_avg /= norm\n",
    "        y_avg /= norm\n",
    "        \n",
    "        theta = 2*np.pi*np.random.random() #random direction\n",
    "        \n",
    "        v_x = np.cos(theta) + self.c*x_avg  # attractive force towards center of mass\n",
    "        v_y = np.sin(theta) + self.c*y_avg\n",
    "        \n",
    "        s = v_y/v_x\n",
    "        if v_x >= 0:  # calculating the perturbed angle\n",
    "            theta = np.arctan(s)\n",
    "        else:\n",
    "            theta = np.arctan(s) + np.pi\n",
    "            \n",
    "        ind = int(8*theta/(2*np.pi)) % 8\n",
    "        v = directions[ind].copy()\n",
    "        \n",
    "        self.x = (x + v[0]) % arena_x\n",
    "        self.y = (y + v[1]) % arena_y"
   ]
  },
  {
   "cell_type": "code",
   "execution_count": 8,
   "metadata": {},
   "outputs": [],
   "source": [
    "class Simulation():\n",
    "    def __init__(self, population_size, arena_dims=(20, 20), p_unlocking=0.01, n_density=0.4, perception_radius=4, c=1):\n",
    "        self.arena_x = arena_dims[0]\n",
    "        self.arena_y = arena_dims[1]\n",
    "        \n",
    "        self.population = [ \n",
    "            Agent(\n",
    "                np.random.randint(self.arena_x), np.random.randint(self.arena_y), \n",
    "                index=i, perception_radius=perception_radius, c=c\n",
    "            ) \n",
    "            for i in range(population_size) \n",
    "        ]\n",
    "        \n",
    "        self.arena_active = np.array([[0 for _ in range(self.arena_x)] for _ in range(self.arena_y)])\n",
    "        self.arena_locked = self.arena_active.copy()\n",
    "        self.arena = None\n",
    "        self.history = None\n",
    "        \n",
    "        self.p_unlocking = p_unlocking\n",
    "        self.n_threshold = 1.0/(n_density*(2*perception_radius + 1)**2)\n",
    "        \n",
    "        self.setup()\n",
    "        \n",
    "    def setup(self):  # place agents into arena\n",
    "        for agent in self.population:  \n",
    "            x = agent.x\n",
    "            y = agent.y\n",
    "\n",
    "            # code below assumes no agent is locked\n",
    "            if self.arena_active[y][x] >= 1: # may be strange but the agent is placed underneath others\n",
    "                agent.locked = True\n",
    "                self.arena_locked[y][x] += 1\n",
    "            else:\n",
    "                self.arena_active[y][x] += 1\n",
    "                \n",
    "        self.arena = self.arena_active + self.arena_locked\n",
    "        self.history = np.expand_dims(self.arena.copy(), axis=2)\n",
    "        \n",
    "                \n",
    "    def move_agents(self):  # movement logic\n",
    "        for agent in self.population: \n",
    "            if not agent.locked:  # locked agents won't move\n",
    "                x_0, y_0 = agent.x, agent.y\n",
    "                x, y = agent.x, agent.y \n",
    "                \n",
    "                br = 0\n",
    "                while self.arena_active[y][x] >= 1: #check for collisions, make agent retry\n",
    "                    if self.arena_locked[y][x] - self.arena_locked[y_0][x_0] <= 1:\n",
    "                        agent.x, agent.y = x_0, y_0\n",
    "                        agent.move(self.arena)\n",
    "                        x, y = agent.x, agent.y\n",
    "                    \n",
    "                    br +=1\n",
    "                    if br >= 10: # shouldn't trigger but just in case\n",
    "                        agent.x, agent.y = x_0, y_0\n",
    "                        x, y = x_0, y_0\n",
    "                        break\n",
    "                \n",
    "                self.arena_active[y_0][x_0] -= 1\n",
    "                self.arena_active[y][x] += 1\n",
    "                \n",
    "                    \n",
    "    def update_states(self): # locking/unlocking logic\n",
    "        for agent in self.population: \n",
    "            x, y = agent.x, agent.y\n",
    "\n",
    "            if not agent.locked:\n",
    "                locked_neighbors = 0\n",
    "\n",
    "                for i in range(3): # count how many locked neighbors there are\n",
    "                    for j in range(3):\n",
    "                        y_ = (y + i - 1) % self.arena_y\n",
    "                        x_ = (x + j - 1) % self.arena_x\n",
    "                        if self.arena_locked[y_][x_] >= 1:\n",
    "                            locked_neighbors += 1\n",
    "\n",
    "                alpha = locked_neighbors*self.n_threshold\n",
    "                r = np.random.random()\n",
    "\n",
    "                if r < alpha or r < 0.0001:  # agent more likely to become locked with more locked neighbors + flat base chance of locking\n",
    "                    agent.locked = True\n",
    "                    self.arena_active[y][x] -= 1\n",
    "                    self.arena_locked[y][x] += 1\n",
    "                    continue\n",
    "\n",
    "            elif agent.locked and self.arena_active[y][x] == 0: # uncovered locked agents can randomly unlock\n",
    "                r = np.random.random()\n",
    "                if r < self.p_unlocking:\n",
    "                    agent.locked = False\n",
    "                    self.arena_locked[y][x] -= 1\n",
    "                    self.arena_active[y][x] += 1\n",
    "                    \n",
    "    def show_arena(self, cmap=\"Purples\"):\n",
    "        plt.imshow(self.arena, cmap=cmap)\n",
    "        \n",
    "    def step(self, n):\n",
    "        for _ in range(n):\n",
    "            sim.move_agents()\n",
    "            sim.update_states()\n",
    "            \n",
    "            self.arena = self.arena = self.arena_active + self.arena_locked\n",
    "            self.history = np.append(self.history, np.expand_dims(self.arena, axis=2), axis=2)\n",
    "            \n",
    "        #self.show_arena()\n",
    "        \n",
    "    def animate_frame(self, i):\n",
    "        frame = plt.imshow(\n",
    "            self.history[:, :, i], vmax=self.max, extent=(0, self.arena_x, 0, self.arena_y), cmap=\"Purples\")\n",
    "        return frame\n",
    "        \n",
    "    def animate_history(self, path, title=\"\"):\n",
    "        self.max = np.max(self.history)\n",
    "        \n",
    "        Writer = animation.writers[\"ffmpeg\"]\n",
    "        writer = Writer(fps=14, bitrate=1200)\n",
    "        \n",
    "        fig = plt.figure(figsize=(10,6))\n",
    "        plt.title(title)\n",
    "        plt.xlabel(\"X\")\n",
    "        plt.ylabel(\"Y\")\n",
    "        plt.xticks([0, self.arena_x])\n",
    "        plt.yticks([0, self.arena_y])\n",
    "        \n",
    "        \n",
    "        ani = animation.FuncAnimation(fig, self.animate_frame, frames=self.history.shape[2])\n",
    "        ani.save(path, writer=writer)"
   ]
  },
  {
   "cell_type": "code",
   "execution_count": 17,
   "metadata": {},
   "outputs": [
    {
     "data": {
      "image/png": "[encoded data removed]",
      "text/plain": [
       "<Figure size 432x288 with 1 Axes>"
      ]
     },
     "metadata": {
      "needs_background": "light"
     },
     "output_type": "display_data"
    }
   ],
   "source": [
    "sim = Simulation(300, arena_dims=(40,40), n_density=0.3, p_unlocking=0.1, c=0)\n",
    "\n",
    "sim.show_arena(cmap=\"RdPu\")"
   ]
  },
  {
   "cell_type": "code",
   "execution_count": 18,
   "metadata": {},
   "outputs": [
    {
     "data": {
      "image/png": "[encoded data removed]",
      "text/plain": [
       "<Figure size 432x288 with 1 Axes>"
      ]
     },
     "metadata": {
      "needs_background": "light"
     },
     "output_type": "display_data"
    }
   ],
   "source": [
    "sim.step(100)\n",
    "sim.show_arena(cmap=\"RdPu\")"
   ]
  },
  {
   "cell_type": "code",
   "execution_count": 19,
   "metadata": {},
   "outputs": [
    {
     "data": {
      "image/png": "[encoded data removed]",
      "text/plain": [
       "<Figure size 720x432 with 1 Axes>"
      ]
     },
     "metadata": {
      "needs_background": "light"
     },
     "output_type": "display_data"
    }
   ],
   "source": [
    "sim.animate_history(\"videos/Automata_1.mp4\", title=\"Tower building automata with c=0\")"
   ]
  },
  {
   "cell_type": "code",
   "execution_count": null,
   "metadata": {},
   "outputs": [],
   "source": []
  }
 ],
 "metadata": {
  "kernelspec": {
   "display_name": "Python 3",
   "language": "python",
   "name": "python3"
  },
  "language_info": {
   "codemirror_mode": {
    "name": "ipython",
    "version": 3
   },
   "file_extension": ".py",
   "mimetype": "text/x-python",
   "name": "python",
   "nbconvert_exporter": "python",
   "pygments_lexer": "ipython3",
   "version": "3.7.6"
  }
 },
 "nbformat": 4,
 "nbformat_minor": 2
}
