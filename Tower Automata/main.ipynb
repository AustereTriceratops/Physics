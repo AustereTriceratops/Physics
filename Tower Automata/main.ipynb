{
 "cells": [
  {
   "cell_type": "code",
   "execution_count": 1,
   "metadata": {},
   "outputs": [],
   "source": [
    "%matplotlib inline\n",
    "import matplotlib.pyplot as plt\n",
    "from matplotlib.cm import get_cmap\n",
    "import numpy as np"
   ]
  },
  {
   "cell_type": "code",
   "execution_count": 54,
   "metadata": {},
   "outputs": [],
   "source": [
    "directions = np.array([[1,0], [0,1], [-1,0], [0,-1], [1,1], [-1,1], [-1,-1], [1,-1]])\n",
    "arena_x = 15\n",
    "arena_y = 15"
   ]
  },
  {
   "cell_type": "code",
   "execution_count": 84,
   "metadata": {},
   "outputs": [],
   "source": [
    "class Agent():\n",
    "    def __init__(self, x, y, index=None):\n",
    "        self.x = x\n",
    "        self.y = y\n",
    "        self.index = index\n",
    "        self.locked = False\n",
    "        \n",
    "    def move(self):  # move in a random direction\n",
    "        #theta = 2*np.pi*np.random.random()\n",
    "        ind = np.random.randint(directions.shape[0])\n",
    "        v = directions[ind].copy()\n",
    "        self.x = (self.x + v[0]) % arena_x\n",
    "        self.y = (self.y + v[1]) % arena_y"
   ]
  },
  {
   "cell_type": "code",
   "execution_count": 85,
   "metadata": {},
   "outputs": [],
   "source": [
    "population = [ Agent(np.random.randint(arena_x), np.random.randint(arena_y), index=i) for i in range(10) ]"
   ]
  },
  {
   "cell_type": "code",
   "execution_count": 86,
   "metadata": {},
   "outputs": [
    {
     "data": {
      "text/plain": [
       "<matplotlib.image.AxesImage at 0x25e9d56f588>"
      ]
     },
     "execution_count": 86,
     "metadata": {},
     "output_type": "execute_result"
    },
    {
     "data": {
      "image/png": "[encoded data removed]",
      "text/plain": [
       "<Figure size 432x288 with 1 Axes>"
      ]
     },
     "metadata": {
      "needs_background": "light"
     },
     "output_type": "display_data"
    }
   ],
   "source": [
    "arena_active = np.array([[0 for _ in range(arena_x)] for _ in range(arena_y)])\n",
    "arena_locked = arena_active.copy()\n",
    "\n",
    "for agent in population:  # setup agents in arena\n",
    "    x = agent.x\n",
    "    y = agent.y\n",
    "    \n",
    "    # code below assumes no agent is locked\n",
    "    if arena_active[y][x] >= 1: # may be strange but the agent is placed underneath others\n",
    "        agent.locked = True\n",
    "        arena_locked[y][x] += 1\n",
    "    else:\n",
    "        arena_active[y][x] += 1\n",
    "    \n",
    "plt.imshow(arena_active)"
   ]
  },
  {
   "cell_type": "code",
   "execution_count": 87,
   "metadata": {},
   "outputs": [
    {
     "data": {
      "text/plain": [
       "<matplotlib.image.AxesImage at 0x25e9d5c4d30>"
      ]
     },
     "execution_count": 87,
     "metadata": {},
     "output_type": "execute_result"
    },
    {
     "data": {
      "image/png": "[encoded data removed]",
      "text/plain": [
       "<Figure size 432x288 with 1 Axes>"
      ]
     },
     "metadata": {
      "needs_background": "light"
     },
     "output_type": "display_data"
    }
   ],
   "source": [
    "plt.imshow(arena_locked)"
   ]
  },
  {
   "cell_type": "code",
   "execution_count": 88,
   "metadata": {},
   "outputs": [
    {
     "data": {
      "text/plain": [
       "<matplotlib.image.AxesImage at 0x25e9d62d1d0>"
      ]
     },
     "execution_count": 88,
     "metadata": {},
     "output_type": "execute_result"
    },
    {
     "data": {
      "image/png": "[encoded data removed]",
      "text/plain": [
       "<Figure size 432x288 with 1 Axes>"
      ]
     },
     "metadata": {
      "needs_background": "light"
     },
     "output_type": "display_data"
    }
   ],
   "source": [
    "for agent in population:\n",
    "    if not agent.locked:  # locked agents won't move\n",
    "        x, y = agent.x, agent.y\n",
    "        arena_active[y][x] -= 1\n",
    "        \n",
    "        agent.move()\n",
    "        \n",
    "        x, y = agent.x, agent.y \n",
    "        if arena_active[y][x] >= 1: #check whether agent should lock\n",
    "            agent.locked = True\n",
    "            arena_locked[y][x] += 1\n",
    "        else:\n",
    "            arena_active[y][x] += 1\n",
    "        \n",
    "        \n",
    "plt.imshow(arena_active)"
   ]
  },
  {
   "cell_type": "code",
   "execution_count": null,
   "metadata": {},
   "outputs": [],
   "source": []
  }
 ],
 "metadata": {
  "kernelspec": {
   "display_name": "Python 3",
   "language": "python",
   "name": "python3"
  },
  "language_info": {
   "codemirror_mode": {
    "name": "ipython",
    "version": 3
   },
   "file_extension": ".py",
   "mimetype": "text/x-python",
   "name": "python",
   "nbconvert_exporter": "python",
   "pygments_lexer": "ipython3",
   "version": "3.6.8"
  }
 },
 "nbformat": 4,
 "nbformat_minor": 2
}
