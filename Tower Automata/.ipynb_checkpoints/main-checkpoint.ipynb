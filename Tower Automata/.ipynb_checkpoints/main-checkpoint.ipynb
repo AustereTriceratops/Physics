{
 "cells": [
  {
   "cell_type": "code",
   "execution_count": 1,
   "metadata": {},
   "outputs": [],
   "source": [
    "%matplotlib inline\n",
    "import matplotlib.pyplot as plt\n",
    "import matplotlib.animation as animation\n",
    "from matplotlib.cm import get_cmap\n",
    "import numpy as np"
   ]
  },
  {
   "cell_type": "code",
   "execution_count": 2,
   "metadata": {},
   "outputs": [],
   "source": [
    "directions = np.array([[1,0], [0,1], [-1,0], [0,-1], [1,1], [-1,1], [-1,-1], [1,-1]])\n",
    "arena_x = 25\n",
    "arena_y = 25\n",
    "p_unlocking = 0.0"
   ]
  },
  {
   "cell_type": "code",
   "execution_count": 3,
   "metadata": {},
   "outputs": [],
   "source": [
    "class Agent():\n",
    "    def __init__(self, x, y, index=None):\n",
    "        self.x = x\n",
    "        self.y = y\n",
    "        self.index = index\n",
    "        self.locked = False\n",
    "        \n",
    "    def move(self):  # move in a random direction\n",
    "        #theta = 2*np.pi*np.random.random()\n",
    "        ind = np.random.randint(directions.shape[0])\n",
    "        v = directions[ind].copy()\n",
    "        self.x = (self.x + v[0]) % arena_x\n",
    "        self.y = (self.y + v[1]) % arena_y"
   ]
  },
  {
   "cell_type": "code",
   "execution_count": 16,
   "metadata": {},
   "outputs": [],
   "source": [
    "class Simulation():\n",
    "    def __init__(self, population_size):\n",
    "        self.population = [ \n",
    "            Agent(np.random.randint(arena_x), np.random.randint(arena_y), index=i) for i in range(population_size) ]\n",
    "        \n",
    "        self.arena_active = np.array([[0 for _ in range(arena_x)] for _ in range(arena_y)])\n",
    "        self.arena_locked = self.arena_active.copy()\n",
    "        self.arena = None\n",
    "        self.history = None\n",
    "        \n",
    "        self.setup()\n",
    "        \n",
    "    def setup(self):  # place agents into arena\n",
    "        for agent in self.population:  \n",
    "            x = agent.x\n",
    "            y = agent.y\n",
    "\n",
    "            # code below assumes no agent is locked\n",
    "            if self.arena_active[y][x] >= 1: # may be strange but the agent is placed underneath others\n",
    "                agent.locked = True\n",
    "                self.arena_locked[y][x] += 1\n",
    "            else:\n",
    "                self.arena_active[y][x] += 1\n",
    "                \n",
    "        self.arena = self.arena_active + self.arena_locked\n",
    "        #self.history = self.arena.copy()\n",
    "        self.history = np.expand_dims(self.arena.copy(), axis=2)\n",
    "        \n",
    "                \n",
    "    def move_agents(self):  # movement logic\n",
    "        for agent in self.population: \n",
    "            if not agent.locked:  # locked agents won't move\n",
    "                x_0, y_0 = agent.x, agent.y\n",
    "                x, y = agent.x, agent.y \n",
    "                \n",
    "                br = 0\n",
    "                while self.arena_active[y][x] >= 1: #check for collisions\n",
    "                    agent.x, agent.y = x_0, y_0\n",
    "                    agent.move()\n",
    "                    x, y = agent.x, agent.y\n",
    "                    \n",
    "                    br +=1\n",
    "                    if br >= 10: # shouldn't trigger but just in case\n",
    "                        agent.x, agent.y = x_0, y_0\n",
    "                        x, y = x_0, y_0\n",
    "                        break\n",
    "                \n",
    "                self.arena_active[y_0][x_0] -= 1\n",
    "                self.arena_active[y][x] += 1\n",
    "                \n",
    "                    \n",
    "    def update_states(self):\n",
    "        for agent in self.population: # locking/unlocking logic\n",
    "            x, y = agent.x, agent.y\n",
    "\n",
    "            if not agent.locked:\n",
    "                locked_neighbors = 0\n",
    "\n",
    "                for i in range(3): # count how many locked neighbors there are\n",
    "                    for j in range(3):\n",
    "                        y_ = (y + i - 1) % 10\n",
    "                        x_ = (x + j - 1) % 10\n",
    "                        locked_neighbors += self.arena_locked[y_][x_]\n",
    "\n",
    "                alpha = locked_neighbors/8.0\n",
    "                r = np.random.random()\n",
    "\n",
    "                if r < alpha or r < 0.01:  # agent more likely to become locked with more locked neighbors + flat base chance of locking\n",
    "                    agent.locked = True\n",
    "                    self.arena_active[y][x] -= 1\n",
    "                    self.arena_locked[y][x] += 1\n",
    "                    continue\n",
    "\n",
    "            elif agent.locked and self.arena_active[y][x] == 0: # uncovered locked agents can randomly unlock\n",
    "                r = np.random.random()\n",
    "                if r < p_unlocking:\n",
    "                    agent.locked = False\n",
    "                    self.arena_locked[y][x] -= 1\n",
    "                    self.arena_active[y][x] += 1\n",
    "                    \n",
    "    def show_arena(self):\n",
    "        plt.imshow(self.arena)\n",
    "        \n",
    "    def step(self, n):\n",
    "        for _ in range(n):\n",
    "            sim.move_agents()\n",
    "            sim.update_states()\n",
    "            \n",
    "            self.arena = self.arena = self.arena_active + self.arena_locked\n",
    "            self.history = np.append(self.history, np.expand_dims(self.arena, axis=2), axis=2)\n",
    "            \n",
    "        self.show_arena()\n",
    "        \n",
    "    def animate_frame(self, i):\n",
    "        frame = plt.imshow(self.history[:, :, i], vmax=self.max)\n",
    "        return frame\n",
    "        \n",
    "    def animate_history(self):\n",
    "        self.max = np.max(self.history)\n",
    "        \n",
    "        Writer = animation.writers[\"ffmpeg\"]\n",
    "        writer = Writer(fps=14, bitrate=1800)\n",
    "        \n",
    "        fig = plt.figure(figsize=(10,6))\n",
    "        \n",
    "        ani = animation.FuncAnimation(fig, self.animate_frame, frames=20)\n",
    "        ani.save(\"Automata_1.mp4\", writer=writer)\n",
    "        "
   ]
  },
  {
   "cell_type": "code",
   "execution_count": 20,
   "metadata": {},
   "outputs": [
    {
     "data": {
      "image/png": "[encoded data removed]",
      "text/plain": [
       "<Figure size 432x288 with 1 Axes>"
      ]
     },
     "metadata": {
      "needs_background": "light"
     },
     "output_type": "display_data"
    }
   ],
   "source": [
    "sim = Simulation(300)\n",
    "\n",
    "sim.show_arena()"
   ]
  },
  {
   "cell_type": "code",
   "execution_count": 21,
   "metadata": {},
   "outputs": [
    {
     "data": {
      "image/png": "[encoded data removed]",
      "text/plain": [
       "<Figure size 432x288 with 1 Axes>"
      ]
     },
     "metadata": {
      "needs_background": "light"
     },
     "output_type": "display_data"
    }
   ],
   "source": [
    "sim.step(30)"
   ]
  },
  {
   "cell_type": "code",
   "execution_count": 22,
   "metadata": {},
   "outputs": [
    {
     "data": {
      "image/png": "[encoded data removed]",
      "text/plain": [
       "<Figure size 720x432 with 1 Axes>"
      ]
     },
     "metadata": {
      "needs_background": "light"
     },
     "output_type": "display_data"
    }
   ],
   "source": [
    "sim.animate_history()"
   ]
  },
  {
   "cell_type": "code",
   "execution_count": null,
   "metadata": {},
   "outputs": [],
   "source": []
  }
 ],
 "metadata": {
  "kernelspec": {
   "display_name": "Python 3",
   "language": "python",
   "name": "python3"
  },
  "language_info": {
   "codemirror_mode": {
    "name": "ipython",
    "version": 3
   },
   "file_extension": ".py",
   "mimetype": "text/x-python",
   "name": "python",
   "nbconvert_exporter": "python",
   "pygments_lexer": "ipython3",
   "version": "3.6.8"
  }
 },
 "nbformat": 4,
 "nbformat_minor": 2
}
