{
 "cells": [
  {
   "cell_type": "code",
   "execution_count": 1,
   "metadata": {},
   "outputs": [],
   "source": [
    "%matplotlib inline\n",
    "import matplotlib.pyplot as plt\n",
    "import pandas as pd\n",
    "import numpy as np\n",
    "from matplotlib.cm import get_cmap"
   ]
  },
  {
   "cell_type": "code",
   "execution_count": 2,
   "metadata": {},
   "outputs": [],
   "source": [
    "cm_magma = get_cmap('magma')\n",
    "cm_plasma = get_cmap('plasma')"
   ]
  },
  {
   "cell_type": "code",
   "execution_count": 3,
   "metadata": {},
   "outputs": [],
   "source": [
    "# a, b in [0, 1]\n",
    "\n",
    "def and_gate(vals):\n",
    "    product = 1\n",
    "    for value in vals:\n",
    "        product *= value\n",
    "    return product\n",
    "\n",
    "def or_gate(vals):\n",
    "    return 1 - nor(vals)\n",
    "\n",
    "def nand(vals):\n",
    "    return 1 - and_gate(vals)\n",
    "\n",
    "def nor(vals):\n",
    "    product = 1\n",
    "    for value in vals:\n",
    "        product *= (1-value)\n",
    "    return product\n",
    "    \n",
    "gates = [and_gate, or_gate, nand, nor]"
   ]
  },
  {
   "cell_type": "code",
   "execution_count": 4,
   "metadata": {},
   "outputs": [],
   "source": [
    "class Node:\n",
    "    def __init__(self, index=None, discrete=True):\n",
    "        self.index = index\n",
    "        if not discrete:\n",
    "            self.state = np.random.random()\n",
    "        else:\n",
    "            self.state = np.random.randint(2)\n",
    "        self.gate = np.random.choice(gates)\n",
    "        self.ingoing_indices = []\n",
    "        self.outgoing_indices = []\n",
    "        \n",
    "        \n",
    "class Network:\n",
    "    def __init__(self, size, num_inputs=2, discrete=True):\n",
    "        self.size = size\n",
    "        self.nodes = np.array([Node(index=i, discrete=discrete) for i in range(size)])\n",
    "        self.state_history = [self.yield_states()]\n",
    "        self.time = 0\n",
    "        self.period = None\n",
    "        \n",
    "        self.randomly_connect_nodes(num_inputs=num_inputs)\n",
    "        \n",
    "    def randomly_connect_nodes(self, num_inputs=2):\n",
    "        for node in self.nodes:\n",
    "            node.ingoing_indices = [np.random.randint(0, self.size) for _ in range(num_inputs)]\n",
    "            for index in node.ingoing_indices:\n",
    "                self.nodes[index].outgoing_indices.append(node.index)\n",
    "                \n",
    "    def timestep(self):\n",
    "        updated_states = []\n",
    "        for i in range(self.size):\n",
    "            node = self.nodes[i]\n",
    "            inputs = [self.nodes[node.ingoing_indices[i]].state for i in range(len(node.ingoing_indices))]\n",
    "            updated_states.append(node.gate(inputs))\n",
    "            \n",
    "        self.state_history.append(np.array(updated_states))\n",
    "        \n",
    "        self.time += 1\n",
    "            \n",
    "        for i in range(self.size):\n",
    "            self.nodes[i].state = updated_states[i]\n",
    "            \n",
    "    def run(self, timesteps):\n",
    "        for _ in range(timesteps):\n",
    "            self.timestep()\n",
    "            \n",
    "    def show_connections(self):\n",
    "        for node in self.nodes:\n",
    "            print(node.ingoing_indices, node.outgoing_indices)\n",
    "    \n",
    "    def show_states(self):\n",
    "        for node in self.nodes:\n",
    "            print(node.state)\n",
    "            \n",
    "    def yield_states(self):\n",
    "        states = []\n",
    "        for node in self.nodes:\n",
    "            states.append(node.state)\n",
    "        return np.asarray(states)\n",
    "    \n",
    "    def show_history(self):\n",
    "        history_map = np.asarray(self.state_history).transpose()\n",
    "        history_map = np.flip(history_map, 0)\n",
    "        fig = plt.imshow(history_map, extent=[0, self.time, 0, self.size], cmap=cm_magma)\n",
    "\n",
    "        plt.yticks([0, self.size])\n",
    "        plt.ylabel(\"State of each node\")\n",
    "\n",
    "        plt.xticks([0, self.time])\n",
    "        plt.xlabel(\"Time\")\n",
    "        \n",
    "        return fig\n",
    "    \n",
    "    def detect_period(self, cutoff=0.05, dynamic_extension=True):\n",
    "        end_state = self.state_history[self.time]\n",
    "        \n",
    "        n = 1\n",
    "        while n > 0:\n",
    "            state = self.state_history[self.time - n]\n",
    "            \n",
    "            if (np.absolute(end_state - state) <= cutoff).all():                \n",
    "                if n == self.time and dynamic_extension:\n",
    "                    self.run(self.time)\n",
    "                    n = self.detect_period()\n",
    "                \n",
    "                self.period = n\n",
    "                return n\n",
    "            n += 1\n",
    "        \n",
    "            \n",
    "    def decompose_period(self, cutoff=0.005):\n",
    "        history = np.asarray(self.state_history)\n",
    "        \n",
    "        if self.period:\n",
    "            n = self.period\n",
    "        else:\n",
    "            n = self.detect_period(cutoff=cutoff)\n",
    "        \n",
    "        divisors = []  # better to cache\n",
    "        for i in range(1, 1 + int(np.floor(n/2))):  # only test up to n/2\n",
    "            if n % i == 0:\n",
    "                divisors.append(i)\n",
    "        divisors.append(n)\n",
    "                \n",
    "        cycles = []\n",
    "        for i in range(self.size):\n",
    "            for d in divisors:\n",
    "                kernel_size = n\n",
    "                    \n",
    "                s = 1\n",
    "                while kernel_size + d >= self.time:\n",
    "                    kernel_size = divisors[-1-s]\n",
    "                    s += 1\n",
    "                    \n",
    "                kernel = history[-1 - kernel_size: -1, i]\n",
    "                shifted_kernel = history[-1 - kernel_size - d: -1 - d, i]\n",
    "                if (np.absolute(kernel - shifted_kernel) <= cutoff).all():\n",
    "                    if d not in cycles:\n",
    "                        cycles.append(d)\n",
    "                    break\n",
    "        return cycles"
   ]
  },
  {
   "cell_type": "code",
   "execution_count": 5,
   "metadata": {},
   "outputs": [
    {
     "data": {
      "text/plain": [
       "<matplotlib.image.AxesImage at 0x2313fdb1278>"
      ]
     },
     "execution_count": 5,
     "metadata": {},
     "output_type": "execute_result"
    },
    {
     "data": {
      "image/png": "[encoded data removed]",
      "text/plain": [
       "<Figure size 432x288 with 1 Axes>"
      ]
     },
     "metadata": {
      "needs_background": "light"
     },
     "output_type": "display_data"
    }
   ],
   "source": [
    "a = Network(25, num_inputs=1, discrete=False)\n",
    "a.run(40)\n",
    "a.show_history()"
   ]
  },
  {
   "cell_type": "code",
   "execution_count": 6,
   "metadata": {},
   "outputs": [
    {
     "data": {
      "text/plain": [
       "[6]"
      ]
     },
     "execution_count": 6,
     "metadata": {},
     "output_type": "execute_result"
    }
   ],
   "source": [
    "a.decompose_period()"
   ]
  },
  {
   "cell_type": "code",
   "execution_count": 7,
   "metadata": {},
   "outputs": [
    {
     "data": {
      "image/png": "[encoded data removed]",
      "text/plain": [
       "<Figure size 1152x720 with 6 Axes>"
      ]
     },
     "metadata": {
      "needs_background": "light"
     },
     "output_type": "display_data"
    }
   ],
   "source": [
    "fig, axes = plt.subplots(3,2, figsize=(16, 10), gridspec_kw={\"wspace\":0.1})\n",
    "\n",
    "group = [Network(25, num_inputs=1, discrete=False) for _ in range(6)]\n",
    "for net in group:\n",
    "    net.run(40)\n",
    "    \n",
    "for i in range(3):\n",
    "    for j in range(2):\n",
    "        history_map = np.asarray(group[i + 2*j].state_history).transpose()\n",
    "        history_map = np.flip(history_map, 0)\n",
    "        axes[i][j].imshow(history_map)"
   ]
  },
  {
   "cell_type": "code",
   "execution_count": null,
   "metadata": {},
   "outputs": [],
   "source": []
  }
 ],
 "metadata": {
  "kernelspec": {
   "display_name": "Python 3",
   "language": "python",
   "name": "python3"
  },
  "language_info": {
   "codemirror_mode": {
    "name": "ipython",
    "version": 3
   },
   "file_extension": ".py",
   "mimetype": "text/x-python",
   "name": "python",
   "nbconvert_exporter": "python",
   "pygments_lexer": "ipython3",
   "version": "3.6.8"
  }
 },
 "nbformat": 4,
 "nbformat_minor": 2
}
