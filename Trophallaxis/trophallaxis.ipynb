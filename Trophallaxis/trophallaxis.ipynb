{
 "cells": [
  {
   "cell_type": "code",
   "execution_count": 1,
   "metadata": {},
   "outputs": [],
   "source": [
    "import numpy as np\n",
    "import matplotlib.pyplot as plt\n",
    "import seaborn as sns\n",
    "\n",
    "sns.set()"
   ]
  },
  {
   "cell_type": "code",
   "execution_count": 74,
   "metadata": {},
   "outputs": [],
   "source": [
    "tau = 2*np.pi\n",
    "speed = 0.01\n",
    "d_theta = 0.8\n",
    "interaction_threshold = np.array([0.01, 0.01])"
   ]
  },
  {
   "cell_type": "code",
   "execution_count": 122,
   "metadata": {},
   "outputs": [],
   "source": [
    "class Agent:\n",
    "    def __init__(self):\n",
    "        self.loc = np.expand_dims(np.random.rand(2), axis=1)\n",
    "        self.theta = tau*np.random.random()\n",
    "        self.level = np.random.choice([0,1])\n",
    "        self.transfering = False\n",
    "        \n",
    "    def step(self):        \n",
    "        # theta-correlated random walk\n",
    "        self.theta = (self.theta + d_theta*np.random.uniform(-1,1)) % tau\n",
    "        self.loc += np.expand_dims(np.array([speed*np.cos(self.theta), speed*np.sin(self.theta)]), axis=1)\n",
    "        \n",
    "        #periodic boundary\n",
    "        self.loc[0][0] = self.loc[0][0] % 1\n",
    "        self.loc[1][0] = self.loc[1][0] % 1"
   ]
  },
  {
   "cell_type": "code",
   "execution_count": 131,
   "metadata": {},
   "outputs": [
    {
     "data": {
      "text/plain": [
       "(2, 201)"
      ]
     },
     "execution_count": 131,
     "metadata": {},
     "output_type": "execute_result"
    }
   ],
   "source": [
    "a = Agent()\n",
    "trajectory = a.loc\n",
    "\n",
    "for _ in range(200):\n",
    "    a.step()\n",
    "    trajectory = np.concatenate((trajectory, a.loc), axis=1)\n",
    "    \n",
    "trajectory.shape"
   ]
  },
  {
   "cell_type": "code",
   "execution_count": 132,
   "metadata": {},
   "outputs": [
    {
     "data": {
      "text/plain": [
       "[<matplotlib.lines.Line2D at 0x1d562251e88>]"
      ]
     },
     "execution_count": 132,
     "metadata": {},
     "output_type": "execute_result"
    },
    {
     "data": {
      "image/png": "[encoded data removed]",
      "text/plain": [
       "<Figure size 432x288 with 1 Axes>"
      ]
     },
     "metadata": {},
     "output_type": "display_data"
    }
   ],
   "source": [
    "plt.plot(trajectory[0], trajectory[1])"
   ]
  },
  {
   "cell_type": "code",
   "execution_count": 117,
   "metadata": {},
   "outputs": [],
   "source": [
    "def find_interaction(population, index_1, index_2):\n",
    "    agent = population[index_1]\n",
    "    other = population[index_2]\n",
    "    \n",
    "    if agent.transfering:  # multiple interactions aren't allowed in same timestep\n",
    "        agent.transfering = False\n",
    "        return\n",
    "        \n",
    "    if other.transfering:  # interaction won't take place if other agent is already interacting\n",
    "        other.transfering = False\n",
    "        return\n",
    "            \n",
    "    if np.all(np.abs(other.loc - agent.loc) <= interaction_threshold):\n",
    "        other.transfering = True\n",
    "        agent.transfering = True\n",
    "            \n",
    "        diff = (other.level - agent.level)/2\n",
    "        other.level -= diff\n",
    "        agent.level += diff"
   ]
  },
  {
   "cell_type": "code",
   "execution_count": 119,
   "metadata": {},
   "outputs": [],
   "source": [
    "def simulate(population_size, steps):\n",
    "    population = [Agent() for _ in range(population_size)]\n",
    "    \n",
    "    for _ in range(steps):\n",
    "        for i in range(population_size):\n",
    "            for j in range(population_size):\n",
    "                find_interaction(population, i, j)\n",
    "\n",
    "        for i in range(population_size):\n",
    "            population[i].step()\n",
    "            \n",
    "    return population"
   ]
  },
  {
   "cell_type": "code",
   "execution_count": 133,
   "metadata": {},
   "outputs": [],
   "source": [
    "pop = simulate(30, 1000)"
   ]
  },
  {
   "cell_type": "code",
   "execution_count": 134,
   "metadata": {},
   "outputs": [
    {
     "data": {
      "text/plain": [
       "[0.19140625,\n",
       " 0.302734375,\n",
       " 0.242919921875,\n",
       " 0.359130859375,\n",
       " 0.36883544921875,\n",
       " 0.40875244140625,\n",
       " 0.36883544921875,\n",
       " 0.51727294921875,\n",
       " 0.224609375,\n",
       " 0.359130859375,\n",
       " 0.3720703125,\n",
       " 0.15771484375,\n",
       " 0.2109375,\n",
       " 0.29888916015625,\n",
       " 0.257080078125,\n",
       " 0.3939971923828125,\n",
       " 0.352508544921875,\n",
       " 0.3939971923828125,\n",
       " 0.257080078125,\n",
       " 0.296875,\n",
       " 0.4327392578125,\n",
       " 0.29888916015625,\n",
       " 0.3626708984375,\n",
       " 0.29296875,\n",
       " 0.352508544921875,\n",
       " 0.364105224609375,\n",
       " 0.474609375,\n",
       " 0.372467041015625,\n",
       " 0.364105224609375,\n",
       " 0.35015869140625]"
      ]
     },
     "execution_count": 134,
     "metadata": {},
     "output_type": "execute_result"
    }
   ],
   "source": [
    "levels = [agent.level for agent in pop]\n",
    "levels"
   ]
  },
  {
   "cell_type": "code",
   "execution_count": null,
   "metadata": {},
   "outputs": [],
   "source": []
  }
 ],
 "metadata": {
  "kernelspec": {
   "display_name": "Python 3",
   "language": "python",
   "name": "python3"
  },
  "language_info": {
   "codemirror_mode": {
    "name": "ipython",
    "version": 3
   },
   "file_extension": ".py",
   "mimetype": "text/x-python",
   "name": "python",
   "nbconvert_exporter": "python",
   "pygments_lexer": "ipython3",
   "version": "3.7.6"
  }
 },
 "nbformat": 4,
 "nbformat_minor": 4
}
