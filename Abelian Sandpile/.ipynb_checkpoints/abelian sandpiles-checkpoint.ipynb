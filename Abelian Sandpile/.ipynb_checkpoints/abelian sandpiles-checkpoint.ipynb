{
 "cells": [
  {
   "cell_type": "code",
   "execution_count": 1,
   "metadata": {
    "scrolled": false
   },
   "outputs": [],
   "source": [
    "import numpy as np\n",
    "import random as r\n",
    "import matplotlib.pyplot as plt\n",
    "import seaborn as sns"
   ]
  },
  {
   "cell_type": "code",
   "execution_count": 2,
   "metadata": {},
   "outputs": [],
   "source": [
    "# ========= GLOBALS ==========\n",
    "\n",
    "gridsize = 6"
   ]
  },
  {
   "cell_type": "code",
   "execution_count": 3,
   "metadata": {
    "scrolled": false
   },
   "outputs": [],
   "source": [
    "def increment(grid, x, y):\n",
    "    g = grid.copy()\n",
    "    \n",
    "    g[x][y] += 1\n",
    "    \n",
    "    if g[x][y] >= 4:\n",
    "        g[x][y] = 0\n",
    "        bordering_cells = neighbors(x, y)\n",
    "        \n",
    "        for cell in bordering_cells:\n",
    "            g = increment(g, cell[0], cell[1])\n",
    "    \n",
    "    return g"
   ]
  },
  {
   "cell_type": "code",
   "execution_count": 4,
   "metadata": {
    "scrolled": false
   },
   "outputs": [],
   "source": [
    "def neighbors(x,y):\n",
    "    dirs = [(x-1,y), (x+1,y), (x, y-1), (x, y+1)]\n",
    "    neighbors = []\n",
    "    \n",
    "    for d in dirs:\n",
    "        if (d[0] >= 0 and d[0] < gridsize) and (d[1] >= 0 and d[1] < gridsize):\n",
    "            neighbors.append(d)\n",
    "            \n",
    "    return neighbors"
   ]
  },
  {
   "cell_type": "code",
   "execution_count": 5,
   "metadata": {},
   "outputs": [],
   "source": [
    "def frame(i):\n",
    "    frame = plt.imshow(\n",
    "            history[:, :, i], vmax=3, extent=(0, self.arena_x, 0, self.arena_y), cmap=\"Purples\")\n",
    "    return frame\n",
    "\n",
    "def animate_history(path):\n",
    "    Writer = animation.writers[\"ffmpeg\"]\n",
    "    writer = Writer(fps=14, bitrate=1200)\n",
    "    \n",
    "    fig = plt.figure(figsize=(10,6))\n",
    "    plt.title('Abelian Sandpile')\n",
    "    plt.xlabel(\"X\")\n",
    "    plt.ylabel(\"Y\")\n",
    "    plt.xticks([])\n",
    "    plt.yticks([])\n",
    "        \n",
    "    ani = animation.FuncAnimation(fig, frame, frames=history.shape[2])\n",
    "    ani.save(path, writer=writer)"
   ]
  },
  {
   "cell_type": "code",
   "execution_count": 62,
   "metadata": {
    "scrolled": false
   },
   "outputs": [],
   "source": [
    "grid = np.array([[0 for i in range(gridsize)] for i in range(gridsize)])\n",
    "history = np.expand_dims(grid.copy(), axis=2)"
   ]
  },
  {
   "cell_type": "code",
   "execution_count": 63,
   "metadata": {
    "scrolled": true
   },
   "outputs": [
    {
     "data": {
      "text/plain": [
       "array([[1, 3, 1, 3, 1, 2],\n",
       "       [2, 0, 3, 2, 2, 2],\n",
       "       [0, 2, 1, 3, 2, 2],\n",
       "       [2, 2, 1, 3, 1, 2],\n",
       "       [3, 1, 2, 1, 0, 2],\n",
       "       [2, 0, 1, 3, 0, 1]])"
      ]
     },
     "execution_count": 63,
     "metadata": {},
     "output_type": "execute_result"
    }
   ],
   "source": [
    "for _ in range(60):\n",
    "    x = r.randint(0, gridsize-1)\n",
    "    y = r.randint(0, gridsize-1)\n",
    "    grid = increment(grid, x, y)\n",
    "    \n",
    "    history = np.append(history, np.expand_dims(grid.copy(), axis=2), axis=2)\n",
    "    \n",
    "grid"
   ]
  },
  {
   "cell_type": "code",
   "execution_count": 73,
   "metadata": {
    "scrolled": false
   },
   "outputs": [
    {
     "data": {
      "text/plain": [
       "<matplotlib.image.AxesImage at 0x20903e42488>"
      ]
     },
     "execution_count": 73,
     "metadata": {},
     "output_type": "execute_result"
    },
    {
     "data": {
      "image/png": "[encoded data removed]",
      "text/plain": [
       "<Figure size 432x288 with 1 Axes>"
      ]
     },
     "metadata": {
      "needs_background": "light"
     },
     "output_type": "display_data"
    }
   ],
   "source": [
    "plt.imshow(history[:,:,25], vmax=3)"
   ]
  },
  {
   "cell_type": "code",
   "execution_count": null,
   "metadata": {},
   "outputs": [],
   "source": []
  }
 ],
 "metadata": {
  "kernelspec": {
   "display_name": "Python 3",
   "language": "python",
   "name": "python3"
  },
  "language_info": {
   "codemirror_mode": {
    "name": "ipython",
    "version": 3
   },
   "file_extension": ".py",
   "mimetype": "text/x-python",
   "name": "python",
   "nbconvert_exporter": "python",
   "pygments_lexer": "ipython3",
   "version": "3.7.6"
  }
 },
 "nbformat": 4,
 "nbformat_minor": 4
}
