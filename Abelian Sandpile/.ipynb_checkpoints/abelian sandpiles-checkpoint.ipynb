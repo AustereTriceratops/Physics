{
 "cells": [
  {
   "cell_type": "code",
   "execution_count": 1,
   "metadata": {
    "scrolled": false
   },
   "outputs": [],
   "source": [
    "import numpy as np\n",
    "import random as r\n",
    "import matplotlib.pyplot as plt\n",
    "import matplotlib.animation as animation\n",
    "import seaborn as sns"
   ]
  },
  {
   "cell_type": "code",
   "execution_count": 9,
   "metadata": {},
   "outputs": [],
   "source": [
    "# ========= GLOBALS ==========\n",
    "\n",
    "gridsize = 35\n",
    "cmap = sns.cubehelix_palette(4, as_cmap=True)\n",
    "frame_interval = 4"
   ]
  },
  {
   "cell_type": "code",
   "execution_count": 3,
   "metadata": {
    "scrolled": false
   },
   "outputs": [],
   "source": [
    "def increment(grid, x, y):\n",
    "    g = grid.copy()\n",
    "    \n",
    "    g[x][y] += 1\n",
    "    \n",
    "    if g[x][y] >= 4:\n",
    "        g[x][y] = 0\n",
    "        bordering_cells = neighbors(x, y)\n",
    "        \n",
    "        for cell in bordering_cells:\n",
    "            g = increment(g, cell[0], cell[1])\n",
    "    \n",
    "    return g"
   ]
  },
  {
   "cell_type": "code",
   "execution_count": 4,
   "metadata": {
    "scrolled": false
   },
   "outputs": [],
   "source": [
    "def neighbors(x,y):\n",
    "    dirs = [(x-1,y), (x+1,y), (x, y-1), (x, y+1)]\n",
    "    neighbors = []\n",
    "    \n",
    "    for d in dirs:\n",
    "        if (d[0] >= 0 and d[0] < gridsize) and (d[1] >= 0 and d[1] < gridsize):\n",
    "            neighbors.append(d)\n",
    "            \n",
    "    return neighbors"
   ]
  },
  {
   "cell_type": "code",
   "execution_count": 21,
   "metadata": {},
   "outputs": [],
   "source": [
    "def frame(history, start_frame, frame_interval):\n",
    "    def func(i):\n",
    "        frame = plt.imshow(\n",
    "                history[:, :, start_frame + i*frame_interval], vmax=3, extent=(0, gridsize, 0, gridsize), cmap=cmap\n",
    "        )\n",
    "        return frame\n",
    "    return func\n",
    "\n",
    "def animate_history(history, path, start_frame=0, frame_interval=10, num_frames=None):\n",
    "    if num_frames is None:\n",
    "        num_frames = int((history.shape[2]-start_frame)/frame_interval)\n",
    "    \n",
    "    Writer = animation.writers[\"ffmpeg\"]\n",
    "    writer = Writer(fps=30, bitrate=900)\n",
    "    \n",
    "    fig = plt.figure(figsize=(10,6))\n",
    "    fig.tight_layout(pad=0.1)\n",
    "    plt.title('Abelian Sandpile')\n",
    "    plt.xticks([])\n",
    "    plt.yticks([])\n",
    "        \n",
    "    ani = animation.FuncAnimation(fig, frame(history, start_frame, frame_interval), frames=num_frames)\n",
    "    ani.save(path, writer=writer)"
   ]
  },
  {
   "cell_type": "code",
   "execution_count": 6,
   "metadata": {
    "scrolled": false
   },
   "outputs": [],
   "source": [
    "grid = np.array([[0 for i in range(gridsize)] for i in range(gridsize)])\n",
    "history = np.expand_dims(grid.copy(), axis=2)"
   ]
  },
  {
   "cell_type": "code",
   "execution_count": 7,
   "metadata": {
    "scrolled": true
   },
   "outputs": [
    {
     "data": {
      "text/plain": [
       "array([[2, 1, 3, ..., 3, 1, 2],\n",
       "       [1, 2, 2, ..., 2, 2, 1],\n",
       "       [3, 2, 2, ..., 2, 2, 3],\n",
       "       ...,\n",
       "       [3, 2, 2, ..., 2, 2, 3],\n",
       "       [1, 2, 2, ..., 2, 2, 1],\n",
       "       [2, 1, 3, ..., 3, 1, 2]])"
      ]
     },
     "execution_count": 7,
     "metadata": {},
     "output_type": "execute_result"
    }
   ],
   "source": [
    "for _ in range(5000):\n",
    "    x = int(gridsize/2) #r.randint(0, gridsize-1)\n",
    "    y = int(gridsize/2) #r.randint(0, gridsize-1)\n",
    "    grid = increment(grid, x, y)\n",
    "    \n",
    "    history = np.append(history, np.expand_dims(grid.copy(), axis=2), axis=2)\n",
    "    \n",
    "grid"
   ]
  },
  {
   "cell_type": "code",
   "execution_count": 8,
   "metadata": {},
   "outputs": [
    {
     "data": {
      "text/plain": [
       "<matplotlib.image.AxesImage at 0x1525503fb48>"
      ]
     },
     "execution_count": 8,
     "metadata": {},
     "output_type": "execute_result"
    },
    {
     "data": {
      "image/png": "[encoded data removed]",
      "text/plain": [
       "<Figure size 432x288 with 1 Axes>"
      ]
     },
     "metadata": {
      "needs_background": "light"
     },
     "output_type": "display_data"
    }
   ],
   "source": [
    "plt.imshow(grid, cmap=cmap)"
   ]
  },
  {
   "cell_type": "code",
   "execution_count": 22,
   "metadata": {
    "scrolled": false
   },
   "outputs": [
    {
     "data": {
      "image/png": "[encoded data removed]",
      "text/plain": [
       "<Figure size 720x432 with 1 Axes>"
      ]
     },
     "metadata": {},
     "output_type": "display_data"
    }
   ],
   "source": [
    "animate_history(history, \"videos/sandpile_4.mp4\", start_frame=1000, frame_interval=4, num_frames=180)"
   ]
  },
  {
   "cell_type": "code",
   "execution_count": null,
   "metadata": {},
   "outputs": [],
   "source": []
  }
 ],
 "metadata": {
  "kernelspec": {
   "display_name": "Python 3",
   "language": "python",
   "name": "python3"
  },
  "language_info": {
   "codemirror_mode": {
    "name": "ipython",
    "version": 3
   },
   "file_extension": ".py",
   "mimetype": "text/x-python",
   "name": "python",
   "nbconvert_exporter": "python",
   "pygments_lexer": "ipython3",
   "version": "3.7.6"
  }
 },
 "nbformat": 4,
 "nbformat_minor": 4
}
